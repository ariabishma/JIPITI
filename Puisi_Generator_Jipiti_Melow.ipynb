{
  "nbformat": 4,
  "nbformat_minor": 0,
  "metadata": {
    "colab": {
      "provenance": [],
      "authorship_tag": "ABX9TyPgkPFhxYdc2L5va+tw82fm",
      "include_colab_link": true
    },
    "kernelspec": {
      "name": "python3",
      "display_name": "Python 3"
    },
    "language_info": {
      "name": "python"
    }
  },
  "cells": [
    {
      "cell_type": "markdown",
      "metadata": {
        "id": "view-in-github",
        "colab_type": "text"
      },
      "source": [
        "<a href=\"https://colab.research.google.com/github/ariabishma/JIPITI/blob/main/Puisi_Generator_Jipiti_Melow.ipynb\" target=\"_parent\"><img src=\"https://colab.research.google.com/assets/colab-badge.svg\" alt=\"Open In Colab\"/></a>"
      ]
    },
    {
      "cell_type": "code",
      "execution_count": 160,
      "metadata": {
        "id": "ExDlz-WzfD-b"
      },
      "outputs": [],
      "source": [
        "import tensorflow as tf\n",
        "import numpy as np \n",
        "from tensorflow.keras.layers import TextVectorization, Dense, Input, Embedding, Layer, Dropout\n",
        "import matplotlib.pyplot as plt"
      ]
    },
    {
      "cell_type": "code",
      "source": [
        "with open('./puisimini.txt', 'r', encoding='utf-8') as f:\n",
        "    text = f.readlines()"
      ],
      "metadata": {
        "id": "DGIw_oRPfsVp"
      },
      "execution_count": 161,
      "outputs": []
    },
    {
      "cell_type": "code",
      "source": [
        "context_size = 8\n",
        "n_embd = 64\n",
        "n_dropout = .2"
      ],
      "metadata": {
        "id": "aAk3epOKgLre"
      },
      "execution_count": 162,
      "outputs": []
    },
    {
      "cell_type": "code",
      "source": [
        "vectorizer = TextVectorization(max_tokens=1000,ragged=True)\n",
        "# vectorizer = TextVectorization(split=\"character\",ragged=True)\n",
        "vectorizer.adapt(text)\n",
        "\n",
        "vocabs = vectorizer.get_vocabulary()\n",
        "\n",
        "decode = lambda encoded : ' '.join([vocabs[i] for i in encoded])\n",
        "\n",
        "vocab_size = vectorizer.vocabulary_size()\n",
        "data = vectorizer(text).flat_values\n",
        "data_size = data.shape[0]"
      ],
      "metadata": {
        "id": "sqZHixvMfwiL"
      },
      "execution_count": 163,
      "outputs": []
    },
    {
      "cell_type": "code",
      "source": [
        "vocab_size"
      ],
      "metadata": {
        "colab": {
          "base_uri": "https://localhost:8080/"
        },
        "id": "Cy1baRNSiUxb",
        "outputId": "b257cb24-9604-4a96-8f24-bbcc61b12da1"
      },
      "execution_count": 164,
      "outputs": [
        {
          "output_type": "execute_result",
          "data": {
            "text/plain": [
              "169"
            ]
          },
          "metadata": {},
          "execution_count": 164
        }
      ]
    },
    {
      "cell_type": "code",
      "source": [
        "xb = np.array([data[d:d+context_size] for d in range(data_size-context_size-1)])\n",
        "yb = np.array([data[d+1:d+1+context_size] for d in range(data_size-context_size-1)])"
      ],
      "metadata": {
        "id": "SCrhhiuWf8Gn"
      },
      "execution_count": 165,
      "outputs": []
    },
    {
      "cell_type": "code",
      "source": [
        "class Block(tf.keras.layers.Layer):\n",
        "  def __init__(self):\n",
        "    super(Block, self).__init__()\n",
        "    # Attention head\n",
        "    self.query = Dense(n_embd, use_bias=False, name=\"attention_query\")\n",
        "    self.key = Dense(n_embd, use_bias=False, name=\"attention_key\")\n",
        "    self.value = Dense(n_embd, use_bias=False, name=\"attention_value\")\n",
        "\n",
        "  def call(self, x):\n",
        "    query = self.query(x)\n",
        "    key = self.key(x)\n",
        "    value = self.value(x)\n",
        "\n",
        "    logits = query @ tf.transpose(key,perm=[0,2,1])\n",
        "    logits = tf.nn.softmax(logits / np.sqrt(n_embd))\n",
        "    logits = logits @ value \n",
        "\n",
        "    return logits"
      ],
      "metadata": {
        "id": "gnYRSkbbVZsA"
      },
      "execution_count": 188,
      "outputs": []
    },
    {
      "cell_type": "code",
      "source": [
        "class PuisiGenerator(tf.keras.Model):\n",
        "  def __init__(self):\n",
        "    super(PuisiGenerator,self).__init__()\n",
        "    self.embedding = tf.keras.layers.Embedding(vocab_size,n_embd)\n",
        "    self.positional_embedding_table = Embedding(context_size, n_embd)\n",
        "    \n",
        "    # decoder block\n",
        "    self.block = Block()\n",
        "\n",
        "    self.ffn1 = tf.keras.layers.Dense(n_embd * 4, activation='relu')\n",
        "    self.dropout = tf.keras.layers.Dropout(n_dropout)\n",
        "    self.head = tf.keras.layers.Dense(vocab_size, activation='softmax')\n",
        "  \n",
        "  def call(self, x):\n",
        "    logits = self.embedding(x)\n",
        "    pos_embd = self.positional_embedding_table(tf.range(context_size))\n",
        "    logits = logits + pos_embd \n",
        "\n",
        "    logits = self.block(logits)\n",
        "\n",
        "    logits = self.ffn1(logits)\n",
        "    logits = self.dropout(logits)\n",
        "    softmax = self.head(logits)\n",
        "\n",
        "    return softmax"
      ],
      "metadata": {
        "id": "50qfR3togR4V"
      },
      "execution_count": 189,
      "outputs": []
    },
    {
      "cell_type": "code",
      "source": [
        "mini_batch = xb[:10]"
      ],
      "metadata": {
        "id": "wAjjrIUIhV-g"
      },
      "execution_count": 190,
      "outputs": []
    },
    {
      "cell_type": "code",
      "source": [
        "model = PuisiGenerator()\n",
        "softmax = model(mini_batch)"
      ],
      "metadata": {
        "id": "j_d7iNP5gsP5"
      },
      "execution_count": 191,
      "outputs": []
    },
    {
      "cell_type": "code",
      "source": [
        "model.compile(optimizer='adam',loss=tf.keras.losses.SparseCategoricalCrossentropy(from_logits=False))"
      ],
      "metadata": {
        "id": "-GcQgG4biq2m"
      },
      "execution_count": 192,
      "outputs": []
    },
    {
      "cell_type": "code",
      "source": [
        "history = model.fit(xb,yb, validation_split=.3, epochs=100, shuffle=True)"
      ],
      "metadata": {
        "colab": {
          "base_uri": "https://localhost:8080/"
        },
        "id": "EI-llv5Mi7QA",
        "outputId": "17a35dd8-04f9-4a55-9a85-c83f0b72789d"
      },
      "execution_count": 193,
      "outputs": [
        {
          "output_type": "stream",
          "name": "stdout",
          "text": [
            "Epoch 1/100\n",
            "11/11 [==============================] - 2s 46ms/step - loss: 5.1192 - val_loss: 5.0983\n",
            "Epoch 2/100\n",
            "11/11 [==============================] - 0s 20ms/step - loss: 5.0617 - val_loss: 4.9861\n",
            "Epoch 3/100\n",
            "11/11 [==============================] - 0s 22ms/step - loss: 4.8734 - val_loss: 4.7449\n",
            "Epoch 4/100\n",
            "11/11 [==============================] - 0s 21ms/step - loss: 4.7195 - val_loss: 4.7595\n",
            "Epoch 5/100\n",
            "11/11 [==============================] - 0s 24ms/step - loss: 4.6259 - val_loss: 4.6998\n",
            "Epoch 6/100\n",
            "11/11 [==============================] - 0s 26ms/step - loss: 4.5215 - val_loss: 4.6380\n",
            "Epoch 7/100\n",
            "11/11 [==============================] - 0s 26ms/step - loss: 4.3496 - val_loss: 4.5170\n",
            "Epoch 8/100\n",
            "11/11 [==============================] - 0s 25ms/step - loss: 4.1480 - val_loss: 4.3897\n",
            "Epoch 9/100\n",
            "11/11 [==============================] - 0s 22ms/step - loss: 3.9427 - val_loss: 4.2144\n",
            "Epoch 10/100\n",
            "11/11 [==============================] - 0s 25ms/step - loss: 3.7112 - val_loss: 3.9859\n",
            "Epoch 11/100\n",
            "11/11 [==============================] - 0s 22ms/step - loss: 3.4880 - val_loss: 3.7178\n",
            "Epoch 12/100\n",
            "11/11 [==============================] - 0s 19ms/step - loss: 3.2748 - val_loss: 3.4388\n",
            "Epoch 13/100\n",
            "11/11 [==============================] - 0s 13ms/step - loss: 3.0719 - val_loss: 3.1424\n",
            "Epoch 14/100\n",
            "11/11 [==============================] - 0s 13ms/step - loss: 2.8478 - val_loss: 2.8360\n",
            "Epoch 15/100\n",
            "11/11 [==============================] - 0s 14ms/step - loss: 2.6249 - val_loss: 2.5496\n",
            "Epoch 16/100\n",
            "11/11 [==============================] - 0s 13ms/step - loss: 2.4140 - val_loss: 2.2665\n",
            "Epoch 17/100\n",
            "11/11 [==============================] - 0s 13ms/step - loss: 2.1820 - val_loss: 2.0326\n",
            "Epoch 18/100\n",
            "11/11 [==============================] - 0s 13ms/step - loss: 2.0196 - val_loss: 1.8177\n",
            "Epoch 19/100\n",
            "11/11 [==============================] - 0s 13ms/step - loss: 1.8349 - val_loss: 1.6372\n",
            "Epoch 20/100\n",
            "11/11 [==============================] - 0s 12ms/step - loss: 1.6644 - val_loss: 1.4869\n",
            "Epoch 21/100\n",
            "11/11 [==============================] - 0s 12ms/step - loss: 1.5298 - val_loss: 1.3483\n",
            "Epoch 22/100\n",
            "11/11 [==============================] - 0s 14ms/step - loss: 1.4044 - val_loss: 1.2342\n",
            "Epoch 23/100\n",
            "11/11 [==============================] - 0s 14ms/step - loss: 1.2900 - val_loss: 1.1418\n",
            "Epoch 24/100\n",
            "11/11 [==============================] - 0s 14ms/step - loss: 1.1808 - val_loss: 1.0486\n",
            "Epoch 25/100\n",
            "11/11 [==============================] - 0s 14ms/step - loss: 1.0823 - val_loss: 0.9638\n",
            "Epoch 26/100\n",
            "11/11 [==============================] - 0s 13ms/step - loss: 1.0037 - val_loss: 0.8977\n",
            "Epoch 27/100\n",
            "11/11 [==============================] - 0s 13ms/step - loss: 0.9134 - val_loss: 0.8269\n",
            "Epoch 28/100\n",
            "11/11 [==============================] - 0s 13ms/step - loss: 0.8668 - val_loss: 0.7678\n",
            "Epoch 29/100\n",
            "11/11 [==============================] - 0s 13ms/step - loss: 0.7950 - val_loss: 0.7178\n",
            "Epoch 30/100\n",
            "11/11 [==============================] - 0s 12ms/step - loss: 0.7386 - val_loss: 0.6646\n",
            "Epoch 31/100\n",
            "11/11 [==============================] - 0s 12ms/step - loss: 0.6869 - val_loss: 0.6119\n",
            "Epoch 32/100\n",
            "11/11 [==============================] - 0s 12ms/step - loss: 0.6385 - val_loss: 0.5686\n",
            "Epoch 33/100\n",
            "11/11 [==============================] - 0s 13ms/step - loss: 0.5911 - val_loss: 0.5328\n",
            "Epoch 34/100\n",
            "11/11 [==============================] - 0s 13ms/step - loss: 0.5708 - val_loss: 0.4913\n",
            "Epoch 35/100\n",
            "11/11 [==============================] - 0s 12ms/step - loss: 0.5256 - val_loss: 0.4579\n",
            "Epoch 36/100\n",
            "11/11 [==============================] - 0s 13ms/step - loss: 0.4854 - val_loss: 0.4246\n",
            "Epoch 37/100\n",
            "11/11 [==============================] - 0s 12ms/step - loss: 0.4492 - val_loss: 0.3988\n",
            "Epoch 38/100\n",
            "11/11 [==============================] - 0s 13ms/step - loss: 0.4114 - val_loss: 0.3704\n",
            "Epoch 39/100\n",
            "11/11 [==============================] - 0s 12ms/step - loss: 0.3934 - val_loss: 0.3501\n",
            "Epoch 40/100\n",
            "11/11 [==============================] - 0s 14ms/step - loss: 0.3624 - val_loss: 0.3361\n",
            "Epoch 41/100\n",
            "11/11 [==============================] - 0s 13ms/step - loss: 0.3569 - val_loss: 0.3130\n",
            "Epoch 42/100\n",
            "11/11 [==============================] - 0s 13ms/step - loss: 0.3247 - val_loss: 0.3001\n",
            "Epoch 43/100\n",
            "11/11 [==============================] - 0s 13ms/step - loss: 0.3206 - val_loss: 0.2906\n",
            "Epoch 44/100\n",
            "11/11 [==============================] - 0s 13ms/step - loss: 0.2990 - val_loss: 0.2683\n",
            "Epoch 45/100\n",
            "11/11 [==============================] - 0s 13ms/step - loss: 0.2790 - val_loss: 0.2554\n",
            "Epoch 46/100\n",
            "11/11 [==============================] - 0s 12ms/step - loss: 0.2590 - val_loss: 0.2558\n",
            "Epoch 47/100\n",
            "11/11 [==============================] - 0s 16ms/step - loss: 0.2410 - val_loss: 0.2328\n",
            "Epoch 48/100\n",
            "11/11 [==============================] - 0s 13ms/step - loss: 0.2371 - val_loss: 0.2279\n",
            "Epoch 49/100\n",
            "11/11 [==============================] - 0s 17ms/step - loss: 0.2210 - val_loss: 0.2205\n",
            "Epoch 50/100\n",
            "11/11 [==============================] - 0s 13ms/step - loss: 0.2060 - val_loss: 0.2200\n",
            "Epoch 51/100\n",
            "11/11 [==============================] - 0s 13ms/step - loss: 0.2011 - val_loss: 0.2152\n",
            "Epoch 52/100\n",
            "11/11 [==============================] - 0s 13ms/step - loss: 0.1897 - val_loss: 0.1955\n",
            "Epoch 53/100\n",
            "11/11 [==============================] - 0s 14ms/step - loss: 0.1869 - val_loss: 0.2073\n",
            "Epoch 54/100\n",
            "11/11 [==============================] - 0s 12ms/step - loss: 0.1740 - val_loss: 0.1926\n",
            "Epoch 55/100\n",
            "11/11 [==============================] - 0s 13ms/step - loss: 0.1630 - val_loss: 0.1839\n",
            "Epoch 56/100\n",
            "11/11 [==============================] - 0s 15ms/step - loss: 0.1506 - val_loss: 0.1698\n",
            "Epoch 57/100\n",
            "11/11 [==============================] - 0s 13ms/step - loss: 0.1471 - val_loss: 0.1613\n",
            "Epoch 58/100\n",
            "11/11 [==============================] - 0s 13ms/step - loss: 0.1452 - val_loss: 0.1593\n",
            "Epoch 59/100\n",
            "11/11 [==============================] - 0s 13ms/step - loss: 0.1448 - val_loss: 0.1613\n",
            "Epoch 60/100\n",
            "11/11 [==============================] - 0s 12ms/step - loss: 0.1285 - val_loss: 0.1472\n",
            "Epoch 61/100\n",
            "11/11 [==============================] - 0s 12ms/step - loss: 0.1222 - val_loss: 0.1449\n",
            "Epoch 62/100\n",
            "11/11 [==============================] - 0s 13ms/step - loss: 0.1259 - val_loss: 0.1411\n",
            "Epoch 63/100\n",
            "11/11 [==============================] - 0s 13ms/step - loss: 0.1107 - val_loss: 0.1399\n",
            "Epoch 64/100\n",
            "11/11 [==============================] - 0s 12ms/step - loss: 0.1066 - val_loss: 0.1381\n",
            "Epoch 65/100\n",
            "11/11 [==============================] - 0s 13ms/step - loss: 0.1052 - val_loss: 0.1424\n",
            "Epoch 66/100\n",
            "11/11 [==============================] - 0s 13ms/step - loss: 0.1026 - val_loss: 0.1338\n",
            "Epoch 67/100\n",
            "11/11 [==============================] - 0s 13ms/step - loss: 0.0959 - val_loss: 0.1357\n",
            "Epoch 68/100\n",
            "11/11 [==============================] - 0s 12ms/step - loss: 0.0955 - val_loss: 0.1298\n",
            "Epoch 69/100\n",
            "11/11 [==============================] - 0s 13ms/step - loss: 0.0923 - val_loss: 0.1239\n",
            "Epoch 70/100\n",
            "11/11 [==============================] - 0s 14ms/step - loss: 0.0843 - val_loss: 0.1247\n",
            "Epoch 71/100\n",
            "11/11 [==============================] - 0s 14ms/step - loss: 0.0893 - val_loss: 0.1277\n",
            "Epoch 72/100\n",
            "11/11 [==============================] - 0s 13ms/step - loss: 0.0817 - val_loss: 0.1181\n",
            "Epoch 73/100\n",
            "11/11 [==============================] - 0s 13ms/step - loss: 0.0774 - val_loss: 0.1209\n",
            "Epoch 74/100\n",
            "11/11 [==============================] - 0s 13ms/step - loss: 0.0785 - val_loss: 0.1226\n",
            "Epoch 75/100\n",
            "11/11 [==============================] - 0s 13ms/step - loss: 0.0777 - val_loss: 0.1195\n",
            "Epoch 76/100\n",
            "11/11 [==============================] - 0s 12ms/step - loss: 0.0741 - val_loss: 0.1183\n",
            "Epoch 77/100\n",
            "11/11 [==============================] - 0s 13ms/step - loss: 0.0659 - val_loss: 0.1142\n",
            "Epoch 78/100\n",
            "11/11 [==============================] - 0s 13ms/step - loss: 0.0712 - val_loss: 0.1183\n",
            "Epoch 79/100\n",
            "11/11 [==============================] - 0s 12ms/step - loss: 0.0652 - val_loss: 0.1138\n",
            "Epoch 80/100\n",
            "11/11 [==============================] - 0s 21ms/step - loss: 0.0627 - val_loss: 0.1176\n",
            "Epoch 81/100\n",
            "11/11 [==============================] - 0s 23ms/step - loss: 0.0647 - val_loss: 0.1111\n",
            "Epoch 82/100\n",
            "11/11 [==============================] - 0s 23ms/step - loss: 0.0609 - val_loss: 0.1122\n",
            "Epoch 83/100\n",
            "11/11 [==============================] - 0s 22ms/step - loss: 0.0612 - val_loss: 0.1124\n",
            "Epoch 84/100\n",
            "11/11 [==============================] - 0s 22ms/step - loss: 0.0613 - val_loss: 0.1191\n",
            "Epoch 85/100\n",
            "11/11 [==============================] - 0s 22ms/step - loss: 0.0632 - val_loss: 0.1219\n",
            "Epoch 86/100\n",
            "11/11 [==============================] - 0s 22ms/step - loss: 0.0600 - val_loss: 0.1129\n",
            "Epoch 87/100\n",
            "11/11 [==============================] - 0s 21ms/step - loss: 0.0566 - val_loss: 0.1087\n",
            "Epoch 88/100\n",
            "11/11 [==============================] - 0s 21ms/step - loss: 0.0585 - val_loss: 0.1105\n",
            "Epoch 89/100\n",
            "11/11 [==============================] - 0s 26ms/step - loss: 0.0541 - val_loss: 0.1170\n",
            "Epoch 90/100\n",
            "11/11 [==============================] - 0s 26ms/step - loss: 0.0509 - val_loss: 0.1167\n",
            "Epoch 91/100\n",
            "11/11 [==============================] - 0s 14ms/step - loss: 0.0438 - val_loss: 0.1192\n",
            "Epoch 92/100\n",
            "11/11 [==============================] - 0s 13ms/step - loss: 0.0368 - val_loss: 0.1134\n",
            "Epoch 93/100\n",
            "11/11 [==============================] - 0s 13ms/step - loss: 0.0439 - val_loss: 0.1140\n",
            "Epoch 94/100\n",
            "11/11 [==============================] - 0s 12ms/step - loss: 0.0396 - val_loss: 0.1078\n",
            "Epoch 95/100\n",
            "11/11 [==============================] - 0s 13ms/step - loss: 0.0390 - val_loss: 0.1108\n",
            "Epoch 96/100\n",
            "11/11 [==============================] - 0s 13ms/step - loss: 0.0431 - val_loss: 0.1101\n",
            "Epoch 97/100\n",
            "11/11 [==============================] - 0s 12ms/step - loss: 0.0413 - val_loss: 0.1114\n",
            "Epoch 98/100\n",
            "11/11 [==============================] - 0s 14ms/step - loss: 0.0387 - val_loss: 0.1079\n",
            "Epoch 99/100\n",
            "11/11 [==============================] - 0s 13ms/step - loss: 0.0438 - val_loss: 0.1109\n",
            "Epoch 100/100\n",
            "11/11 [==============================] - 0s 13ms/step - loss: 0.0366 - val_loss: 0.1111\n"
          ]
        }
      ]
    },
    {
      "cell_type": "code",
      "source": [
        "plt.plot(history.history['loss'])\n",
        "plt.plot(history.history['val_loss'])\n",
        "plt.title('Model Loss')\n",
        "plt.ylabel('Loss')\n",
        "plt.xlabel('epoch')\n",
        "plt.legend(['train', 'val'])\n",
        "plt.show()"
      ],
      "metadata": {
        "colab": {
          "base_uri": "https://localhost:8080/",
          "height": 472
        },
        "id": "Lvo5XY-tWn3C",
        "outputId": "b3665c6f-7bba-4487-aa8d-bcebfcfa0095"
      },
      "execution_count": 194,
      "outputs": [
        {
          "output_type": "display_data",
          "data": {
            "text/plain": [
              "<Figure size 640x480 with 1 Axes>"
            ],
            "image/png": "[encoded data removed]"
          },
          "metadata": {}
        }
      ]
    },
    {
      "cell_type": "code",
      "source": [
        "# context = vectorizer('Kau genggam kedua tanganku saat aku merasa takut Kaulah yang')\n",
        "context = data[:context_size]\n",
        "decode(context)"
      ],
      "metadata": {
        "colab": {
          "base_uri": "https://localhost:8080/",
          "height": 35
        },
        "id": "vhZi36QTlP3g",
        "outputId": "f24599f9-c8e2-488d-8b44-4a3a01445bec"
      },
      "execution_count": 195,
      "outputs": [
        {
          "output_type": "execute_result",
          "data": {
            "text/plain": [
              "'kau adalah separuh hidup ku hanya kepadamu aku'"
            ],
            "application/vnd.google.colaboratory.intrinsic+json": {
              "type": "string"
            }
          },
          "metadata": {},
          "execution_count": 195
        }
      ]
    },
    {
      "cell_type": "code",
      "source": [
        "softmax = model(np.array([context]))"
      ],
      "metadata": {
        "id": "SzIAAz1FjBdB"
      },
      "execution_count": 175,
      "outputs": []
    },
    {
      "cell_type": "code",
      "source": [
        "tf.math.log([[0.5, 0.8,0.3,.2,.2,.2,.2,.2,.2,.2]])"
      ],
      "metadata": {
        "colab": {
          "base_uri": "https://localhost:8080/"
        },
        "id": "ykwx-sRj36Xz",
        "outputId": "23435d1b-ed90-463e-ed56-6a138c017e53"
      },
      "execution_count": 176,
      "outputs": [
        {
          "output_type": "execute_result",
          "data": {
            "text/plain": [
              "<tf.Tensor: shape=(1, 10), dtype=float32, numpy=\n",
              "array([[-0.6931472 , -0.22314355, -1.2039728 , -1.609438  , -1.609438  ,\n",
              "        -1.609438  , -1.609438  , -1.609438  , -1.609438  , -1.609438  ]],\n",
              "      dtype=float32)>"
            ]
          },
          "metadata": {},
          "execution_count": 176
        }
      ]
    },
    {
      "cell_type": "code",
      "source": [
        "p = tf.random.categorical(softmax[-1,-1:],1)\n",
        "decode(p[0])"
      ],
      "metadata": {
        "colab": {
          "base_uri": "https://localhost:8080/",
          "height": 35
        },
        "id": "FHE6PUqK3bqy",
        "outputId": "09c6e4f1-0f16-408f-b485-9a0b78773292"
      },
      "execution_count": 177,
      "outputs": [
        {
          "output_type": "execute_result",
          "data": {
            "text/plain": [
              "'hidup'"
            ],
            "application/vnd.google.colaboratory.intrinsic+json": {
              "type": "string"
            }
          },
          "metadata": {},
          "execution_count": 177
        }
      ]
    },
    {
      "cell_type": "code",
      "source": [
        "decode(mini_batch[:1][0])"
      ],
      "metadata": {
        "colab": {
          "base_uri": "https://localhost:8080/",
          "height": 35
        },
        "id": "2jeqZmlHkFpC",
        "outputId": "aec1a88d-f506-4c7b-a837-b2834a6c9453"
      },
      "execution_count": 178,
      "outputs": [
        {
          "output_type": "execute_result",
          "data": {
            "text/plain": [
              "'kau adalah separuh hidup ku hanya kepadamu aku'"
            ],
            "application/vnd.google.colaboratory.intrinsic+json": {
              "type": "string"
            }
          },
          "metadata": {},
          "execution_count": 178
        }
      ]
    },
    {
      "cell_type": "code",
      "source": [
        "decode([tf.argmax(softmax[0,-1,:])])"
      ],
      "metadata": {
        "colab": {
          "base_uri": "https://localhost:8080/",
          "height": 35
        },
        "id": "VAGduR5UjohP",
        "outputId": "ea33bc45-3eb9-4ae5-8246-3fc3df76213b"
      },
      "execution_count": 179,
      "outputs": [
        {
          "output_type": "execute_result",
          "data": {
            "text/plain": [
              "'berbagi'"
            ],
            "application/vnd.google.colaboratory.intrinsic+json": {
              "type": "string"
            }
          },
          "metadata": {},
          "execution_count": 179
        }
      ]
    },
    {
      "cell_type": "code",
      "source": [
        "random = np.random.randint(100)\n",
        "context = data[random:random+context_size]\n",
        "context = vectorizer('aku yakin jiwamu yang kan selalu menghiasi hidupku')\n",
        "decode(context)"
      ],
      "metadata": {
        "colab": {
          "base_uri": "https://localhost:8080/",
          "height": 35
        },
        "id": "K8IRLJ1WbuK-",
        "outputId": "1ab8519e-50fb-4491-a1db-3ad8ee211ef2"
      },
      "execution_count": 262,
      "outputs": [
        {
          "output_type": "execute_result",
          "data": {
            "text/plain": [
              "'aku [UNK] [UNK] yang kan selalu menghiasi hidupku'"
            ],
            "application/vnd.google.colaboratory.intrinsic+json": {
              "type": "string"
            }
          },
          "metadata": {},
          "execution_count": 262
        }
      ]
    },
    {
      "cell_type": "code",
      "source": [
        "full_text = ''\n",
        "for i in range(100):\n",
        "  context_new = context[-context_size:]\n",
        "  softmax = model(np.array([context_new]))\n",
        "\n",
        "  prediction = tf.random.categorical(tf.math.log(softmax[-1,-1:]),1)\n",
        "  full_text += decode(prediction[0])+' '\n",
        "  context = tf.concat([context,prediction[0]],axis=0)"
      ],
      "metadata": {
        "id": "2gYdFkWyjpFm"
      },
      "execution_count": 263,
      "outputs": []
    },
    {
      "cell_type": "code",
      "source": [
        "full_text"
      ],
      "metadata": {
        "colab": {
          "base_uri": "https://localhost:8080/",
          "height": 122
        },
        "id": "zjCZHSagmT8g",
        "outputId": "214ede6a-40d2-41c0-b925-0f0e8211e78b"
      },
      "execution_count": 264,
      "outputs": [
        {
          "output_type": "execute_result",
          "data": {
            "text/plain": [
              "'selalu menghiasi harihariku selamanya kaulah diana mungkin kau membiarkan aku membiarkan perasaan ini larut memberi ruang jiwaku hampa agar tetap nikmati nikmati perangkap yang kau buat perisai yang banggakan takkan jadi tameng bagimu aku mengerti betapa hebatnya perangkap mu hei sang dewi ku akan nikmati akan selamanya bersinar bersinar secerah sang mentari pagi ya rabbi aku rabbi jangan engkau pisahkan antara akuibuku ya rabbi jangan engkau pisahkan antara akuibuku ya rabbi aku sungguh menyayanginya aku sepanjang zaman zaman yang zaman yang tak terhitungkan dia telah bersusah payah melahirkanku tanpa ku sadari aku telah sering menyakiti menyakiti hati ibuku ibuku ibuku '"
            ],
            "application/vnd.google.colaboratory.intrinsic+json": {
              "type": "string"
            }
          },
          "metadata": {},
          "execution_count": 264
        }
      ]
    },
    {
      "cell_type": "code",
      "source": [
        "tf.random.categorical(tf.math.log([[.3,.1,.6]]),100)"
      ],
      "metadata": {
        "colab": {
          "base_uri": "https://localhost:8080/"
        },
        "id": "gb7RYpicWNdn",
        "outputId": "99f61796-e633-4308-fb24-d1c810173df0"
      },
      "execution_count": 151,
      "outputs": [
        {
          "output_type": "execute_result",
          "data": {
            "text/plain": [
              "<tf.Tensor: shape=(1, 100), dtype=int64, numpy=\n",
              "array([[2, 2, 0, 2, 2, 0, 2, 0, 2, 2, 0, 2, 2, 2, 0, 0, 2, 2, 2, 2, 0, 0,\n",
              "        2, 2, 2, 2, 0, 0, 2, 2, 2, 2, 2, 2, 1, 0, 2, 0, 0, 0, 0, 2, 0, 2,\n",
              "        2, 0, 0, 2, 2, 2, 2, 2, 2, 2, 0, 2, 0, 2, 2, 0, 2, 2, 2, 2, 0, 2,\n",
              "        0, 0, 2, 0, 1, 0, 2, 2, 2, 2, 2, 2, 2, 2, 2, 2, 2, 1, 0, 1, 2, 2,\n",
              "        2, 0, 0, 0, 2, 2, 0, 2, 2, 2, 1, 2]])>"
            ]
          },
          "metadata": {},
          "execution_count": 151
        }
      ]
    },
    {
      "cell_type": "code",
      "source": [],
      "metadata": {
        "id": "ldvBDKhAdJmZ"
      },
      "execution_count": null,
      "outputs": []
    }
  ]
}