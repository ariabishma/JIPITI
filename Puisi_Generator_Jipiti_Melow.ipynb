{
  "nbformat": 4,
  "nbformat_minor": 0,
  "metadata": {
    "colab": {
      "provenance": [],
      "authorship_tag": "ABX9TyOSfK1uB8pOFzsBPjUCkrvN",
      "include_colab_link": true
    },
    "kernelspec": {
      "name": "python3",
      "display_name": "Python 3"
    },
    "language_info": {
      "name": "python"
    }
  },
  "cells": [
    {
      "cell_type": "markdown",
      "metadata": {
        "id": "view-in-github",
        "colab_type": "text"
      },
      "source": [
        "<a href=\"https://colab.research.google.com/github/ariabishma/JIPITI/blob/main/Puisi_Generator_Jipiti_Melow.ipynb\" target=\"_parent\"><img src=\"https://colab.research.google.com/assets/colab-badge.svg\" alt=\"Open In Colab\"/></a>"
      ]
    },
    {
      "cell_type": "code",
      "execution_count": 3,
      "metadata": {
        "id": "ExDlz-WzfD-b"
      },
      "outputs": [],
      "source": [
        "import tensorflow as tf\n",
        "import numpy as np \n",
        "from tensorflow.keras.layers import TextVectorization, Dense, Input, Embedding, Layer, Dropout\n",
        "import matplotlib.pyplot as plt"
      ]
    },
    {
      "cell_type": "code",
      "source": [
        "with open('./puisimini.txt', 'r', encoding='utf-8') as f:\n",
        "    text = f.readlines()"
      ],
      "metadata": {
        "id": "DGIw_oRPfsVp"
      },
      "execution_count": 4,
      "outputs": []
    },
    {
      "cell_type": "code",
      "source": [
        "context_size = 8\n",
        "n_embd = 64\n",
        "n_dropout = .2"
      ],
      "metadata": {
        "id": "aAk3epOKgLre"
      },
      "execution_count": 5,
      "outputs": []
    },
    {
      "cell_type": "code",
      "source": [
        "vectorizer = TextVectorization(max_tokens=1000,ragged=True)\n",
        "# vectorizer = TextVectorization(split=\"character\",ragged=True)\n",
        "vectorizer.adapt(text)\n",
        "\n",
        "vocabs = vectorizer.get_vocabulary()\n",
        "\n",
        "decode = lambda encoded : ' '.join([vocabs[i] for i in encoded])\n",
        "\n",
        "vocab_size = vectorizer.vocabulary_size()\n",
        "data = vectorizer(text).flat_values\n",
        "data_size = data.shape[0]"
      ],
      "metadata": {
        "id": "sqZHixvMfwiL"
      },
      "execution_count": 6,
      "outputs": []
    },
    {
      "cell_type": "code",
      "source": [
        "vocab_size"
      ],
      "metadata": {
        "colab": {
          "base_uri": "https://localhost:8080/"
        },
        "id": "Cy1baRNSiUxb",
        "outputId": "3a67ef59-5b6c-427d-f768-c17994c49b51"
      },
      "execution_count": 7,
      "outputs": [
        {
          "output_type": "execute_result",
          "data": {
            "text/plain": [
              "169"
            ]
          },
          "metadata": {},
          "execution_count": 7
        }
      ]
    },
    {
      "cell_type": "code",
      "source": [
        "xb = np.array([data[d:d+context_size] for d in range(data_size-context_size-1)])\n",
        "yb = np.array([data[d+1:d+1+context_size] for d in range(data_size-context_size-1)])"
      ],
      "metadata": {
        "id": "SCrhhiuWf8Gn"
      },
      "execution_count": 8,
      "outputs": []
    },
    {
      "cell_type": "code",
      "source": [
        "class Block(tf.keras.layers.Layer):\n",
        "  def __init__(self):\n",
        "    super(Block, self).__init__()\n",
        "    # Attention head\n",
        "    self.query = Dense(n_embd, use_bias=False, name=\"attention_query\")\n",
        "    self.key = Dense(n_embd, use_bias=False, name=\"attention_key\")\n",
        "    self.value = Dense(n_embd, use_bias=False, name=\"attention_value\")\n",
        "\n",
        "  def call(self, x):\n",
        "    query = self.query(x)\n",
        "    key = self.key(x)\n",
        "    value = self.value(x)\n",
        "\n",
        "    logits = query @ tf.transpose(key,perm=[0,2,1])\n",
        "    mask = tf.linalg.band_part(tf.ones_like(logits ,dtype='bool'), -1, 0)\n",
        "    \n",
        "    logits = tf.where(mask, logits, float('-inf'))\n",
        "\n",
        "    logits = tf.nn.softmax(logits / np.sqrt(n_embd))\n",
        "    logits = logits @ value \n",
        "\n",
        "    return logits"
      ],
      "metadata": {
        "id": "gnYRSkbbVZsA"
      },
      "execution_count": 9,
      "outputs": []
    },
    {
      "cell_type": "code",
      "source": [
        "class PuisiGenerator(tf.keras.Model):\n",
        "  def __init__(self):\n",
        "    super(PuisiGenerator,self).__init__()\n",
        "    self.embedding = tf.keras.layers.Embedding(vocab_size,n_embd)\n",
        "    self.positional_embedding_table = Embedding(context_size, n_embd)\n",
        "    \n",
        "    # decoder block\n",
        "    self.block = Block()\n",
        "\n",
        "    self.ffn1 = tf.keras.layers.Dense(n_embd * 4, activation='relu')\n",
        "    self.dropout = tf.keras.layers.Dropout(n_dropout)\n",
        "    self.head = tf.keras.layers.Dense(vocab_size)\n",
        "  \n",
        "  def call(self, x):\n",
        "    logits = self.embedding(x)\n",
        "    pos_embd = self.positional_embedding_table(tf.range(context_size))\n",
        "    logits = logits + pos_embd \n",
        "\n",
        "    logits = self.block(logits)\n",
        "\n",
        "    logits = self.ffn1(logits)\n",
        "    logits = self.dropout(logits)\n",
        "    softmax = self.head(logits)\n",
        "\n",
        "    return softmax"
      ],
      "metadata": {
        "id": "50qfR3togR4V"
      },
      "execution_count": 10,
      "outputs": []
    },
    {
      "cell_type": "code",
      "source": [
        "mini_batch = xb[:10]"
      ],
      "metadata": {
        "id": "wAjjrIUIhV-g"
      },
      "execution_count": 11,
      "outputs": []
    },
    {
      "cell_type": "code",
      "source": [
        "model = PuisiGenerator()\n",
        "softmax = model(mini_batch)"
      ],
      "metadata": {
        "id": "j_d7iNP5gsP5"
      },
      "execution_count": 12,
      "outputs": []
    },
    {
      "cell_type": "code",
      "source": [
        "model.compile(optimizer='adam',loss=tf.keras.losses.SparseCategoricalCrossentropy(from_logits=True))"
      ],
      "metadata": {
        "id": "-GcQgG4biq2m"
      },
      "execution_count": 13,
      "outputs": []
    },
    {
      "cell_type": "code",
      "source": [
        "history = model.fit(xb,yb, validation_split=.3, epochs=100, shuffle=True)"
      ],
      "metadata": {
        "colab": {
          "base_uri": "https://localhost:8080/"
        },
        "id": "EI-llv5Mi7QA",
        "outputId": "851ecc3d-8b04-44ea-f130-bcf72466b405"
      },
      "execution_count": 14,
      "outputs": [
        {
          "output_type": "stream",
          "name": "stdout",
          "text": [
            "Epoch 1/100\n",
            "11/11 [==============================] - 3s 73ms/step - loss: 5.1157 - val_loss: 5.0940\n",
            "Epoch 2/100\n",
            "11/11 [==============================] - 0s 24ms/step - loss: 5.0461 - val_loss: 4.9890\n",
            "Epoch 3/100\n",
            "11/11 [==============================] - 0s 27ms/step - loss: 4.8466 - val_loss: 4.8064\n",
            "Epoch 4/100\n",
            "11/11 [==============================] - 0s 26ms/step - loss: 4.6974 - val_loss: 4.7601\n",
            "Epoch 5/100\n",
            "11/11 [==============================] - 0s 22ms/step - loss: 4.6154 - val_loss: 4.6918\n",
            "Epoch 6/100\n",
            "11/11 [==============================] - 0s 24ms/step - loss: 4.5280 - val_loss: 4.6145\n",
            "Epoch 7/100\n",
            "11/11 [==============================] - 0s 13ms/step - loss: 4.4032 - val_loss: 4.5012\n",
            "Epoch 8/100\n",
            "11/11 [==============================] - 0s 13ms/step - loss: 4.2178 - val_loss: 4.3555\n",
            "Epoch 9/100\n",
            "11/11 [==============================] - 0s 18ms/step - loss: 3.9736 - val_loss: 4.1765\n",
            "Epoch 10/100\n",
            "11/11 [==============================] - 0s 14ms/step - loss: 3.6624 - val_loss: 3.9440\n",
            "Epoch 11/100\n",
            "11/11 [==============================] - 0s 14ms/step - loss: 3.3151 - val_loss: 3.6340\n",
            "Epoch 12/100\n",
            "11/11 [==============================] - 0s 15ms/step - loss: 2.9436 - val_loss: 3.2567\n",
            "Epoch 13/100\n",
            "11/11 [==============================] - 0s 13ms/step - loss: 2.5571 - val_loss: 2.8461\n",
            "Epoch 14/100\n",
            "11/11 [==============================] - 0s 13ms/step - loss: 2.1722 - val_loss: 2.4274\n",
            "Epoch 15/100\n",
            "11/11 [==============================] - 0s 14ms/step - loss: 1.8080 - val_loss: 2.0118\n",
            "Epoch 16/100\n",
            "11/11 [==============================] - 0s 14ms/step - loss: 1.4937 - val_loss: 1.6853\n",
            "Epoch 17/100\n",
            "11/11 [==============================] - 0s 17ms/step - loss: 1.2299 - val_loss: 1.4219\n",
            "Epoch 18/100\n",
            "11/11 [==============================] - 0s 13ms/step - loss: 1.0339 - val_loss: 1.2255\n",
            "Epoch 19/100\n",
            "11/11 [==============================] - 0s 14ms/step - loss: 0.8541 - val_loss: 1.0685\n",
            "Epoch 20/100\n",
            "11/11 [==============================] - 0s 13ms/step - loss: 0.7480 - val_loss: 0.9350\n",
            "Epoch 21/100\n",
            "11/11 [==============================] - 0s 15ms/step - loss: 0.6625 - val_loss: 0.8546\n",
            "Epoch 22/100\n",
            "11/11 [==============================] - 0s 14ms/step - loss: 0.5909 - val_loss: 0.7672\n",
            "Epoch 23/100\n",
            "11/11 [==============================] - 0s 13ms/step - loss: 0.5399 - val_loss: 0.7382\n",
            "Epoch 24/100\n",
            "11/11 [==============================] - 0s 13ms/step - loss: 0.4975 - val_loss: 0.6907\n",
            "Epoch 25/100\n",
            "11/11 [==============================] - 0s 17ms/step - loss: 0.4636 - val_loss: 0.6363\n",
            "Epoch 26/100\n",
            "11/11 [==============================] - 0s 13ms/step - loss: 0.4307 - val_loss: 0.6176\n",
            "Epoch 27/100\n",
            "11/11 [==============================] - 0s 14ms/step - loss: 0.4106 - val_loss: 0.5794\n",
            "Epoch 28/100\n",
            "11/11 [==============================] - 0s 14ms/step - loss: 0.3803 - val_loss: 0.5607\n",
            "Epoch 29/100\n",
            "11/11 [==============================] - 0s 13ms/step - loss: 0.3643 - val_loss: 0.5387\n",
            "Epoch 30/100\n",
            "11/11 [==============================] - 0s 13ms/step - loss: 0.3392 - val_loss: 0.5146\n",
            "Epoch 31/100\n",
            "11/11 [==============================] - 0s 13ms/step - loss: 0.3245 - val_loss: 0.4969\n",
            "Epoch 32/100\n",
            "11/11 [==============================] - 0s 14ms/step - loss: 0.3261 - val_loss: 0.4741\n",
            "Epoch 33/100\n",
            "11/11 [==============================] - 0s 13ms/step - loss: 0.3079 - val_loss: 0.4736\n",
            "Epoch 34/100\n",
            "11/11 [==============================] - 0s 13ms/step - loss: 0.2894 - val_loss: 0.4685\n",
            "Epoch 35/100\n",
            "11/11 [==============================] - 0s 14ms/step - loss: 0.2773 - val_loss: 0.4511\n",
            "Epoch 36/100\n",
            "11/11 [==============================] - 0s 16ms/step - loss: 0.2738 - val_loss: 0.4393\n",
            "Epoch 37/100\n",
            "11/11 [==============================] - 0s 13ms/step - loss: 0.2700 - val_loss: 0.4384\n",
            "Epoch 38/100\n",
            "11/11 [==============================] - 0s 15ms/step - loss: 0.2621 - val_loss: 0.4309\n",
            "Epoch 39/100\n",
            "11/11 [==============================] - 0s 14ms/step - loss: 0.2490 - val_loss: 0.4195\n",
            "Epoch 40/100\n",
            "11/11 [==============================] - 0s 17ms/step - loss: 0.2443 - val_loss: 0.4034\n",
            "Epoch 41/100\n",
            "11/11 [==============================] - 0s 13ms/step - loss: 0.2382 - val_loss: 0.4077\n",
            "Epoch 42/100\n",
            "11/11 [==============================] - 0s 14ms/step - loss: 0.2350 - val_loss: 0.4074\n",
            "Epoch 43/100\n",
            "11/11 [==============================] - 0s 13ms/step - loss: 0.2279 - val_loss: 0.3991\n",
            "Epoch 44/100\n",
            "11/11 [==============================] - 0s 13ms/step - loss: 0.2250 - val_loss: 0.3952\n",
            "Epoch 45/100\n",
            "11/11 [==============================] - 0s 15ms/step - loss: 0.2219 - val_loss: 0.3947\n",
            "Epoch 46/100\n",
            "11/11 [==============================] - 0s 13ms/step - loss: 0.2170 - val_loss: 0.3852\n",
            "Epoch 47/100\n",
            "11/11 [==============================] - 0s 14ms/step - loss: 0.2075 - val_loss: 0.3848\n",
            "Epoch 48/100\n",
            "11/11 [==============================] - 0s 14ms/step - loss: 0.2094 - val_loss: 0.3772\n",
            "Epoch 49/100\n",
            "11/11 [==============================] - 0s 14ms/step - loss: 0.2101 - val_loss: 0.3737\n",
            "Epoch 50/100\n",
            "11/11 [==============================] - 0s 13ms/step - loss: 0.2100 - val_loss: 0.3720\n",
            "Epoch 51/100\n",
            "11/11 [==============================] - 0s 14ms/step - loss: 0.1977 - val_loss: 0.3746\n",
            "Epoch 52/100\n",
            "11/11 [==============================] - 0s 13ms/step - loss: 0.1969 - val_loss: 0.3689\n",
            "Epoch 53/100\n",
            "11/11 [==============================] - 0s 14ms/step - loss: 0.1969 - val_loss: 0.3607\n",
            "Epoch 54/100\n",
            "11/11 [==============================] - 0s 14ms/step - loss: 0.2025 - val_loss: 0.3683\n",
            "Epoch 55/100\n",
            "11/11 [==============================] - 0s 13ms/step - loss: 0.1854 - val_loss: 0.3599\n",
            "Epoch 56/100\n",
            "11/11 [==============================] - 0s 13ms/step - loss: 0.1862 - val_loss: 0.3500\n",
            "Epoch 57/100\n",
            "11/11 [==============================] - 0s 13ms/step - loss: 0.1796 - val_loss: 0.3659\n",
            "Epoch 58/100\n",
            "11/11 [==============================] - 0s 15ms/step - loss: 0.1769 - val_loss: 0.3550\n",
            "Epoch 59/100\n",
            "11/11 [==============================] - 0s 14ms/step - loss: 0.1870 - val_loss: 0.3547\n",
            "Epoch 60/100\n",
            "11/11 [==============================] - 0s 13ms/step - loss: 0.1797 - val_loss: 0.3465\n",
            "Epoch 61/100\n",
            "11/11 [==============================] - 0s 14ms/step - loss: 0.1758 - val_loss: 0.3565\n",
            "Epoch 62/100\n",
            "11/11 [==============================] - 0s 14ms/step - loss: 0.1716 - val_loss: 0.3554\n",
            "Epoch 63/100\n",
            "11/11 [==============================] - 0s 14ms/step - loss: 0.1732 - val_loss: 0.3499\n",
            "Epoch 64/100\n",
            "11/11 [==============================] - 0s 21ms/step - loss: 0.1823 - val_loss: 0.3418\n",
            "Epoch 65/100\n",
            "11/11 [==============================] - 0s 14ms/step - loss: 0.1781 - val_loss: 0.3509\n",
            "Epoch 66/100\n",
            "11/11 [==============================] - 0s 14ms/step - loss: 0.1721 - val_loss: 0.3425\n",
            "Epoch 67/100\n",
            "11/11 [==============================] - 0s 16ms/step - loss: 0.1666 - val_loss: 0.3444\n",
            "Epoch 68/100\n",
            "11/11 [==============================] - 0s 14ms/step - loss: 0.1712 - val_loss: 0.3456\n",
            "Epoch 69/100\n",
            "11/11 [==============================] - 0s 21ms/step - loss: 0.1645 - val_loss: 0.3486\n",
            "Epoch 70/100\n",
            "11/11 [==============================] - 0s 24ms/step - loss: 0.1645 - val_loss: 0.3486\n",
            "Epoch 71/100\n",
            "11/11 [==============================] - 0s 21ms/step - loss: 0.1690 - val_loss: 0.3401\n",
            "Epoch 72/100\n",
            "11/11 [==============================] - 0s 27ms/step - loss: 0.1588 - val_loss: 0.3362\n",
            "Epoch 73/100\n",
            "11/11 [==============================] - 0s 24ms/step - loss: 0.1682 - val_loss: 0.3363\n",
            "Epoch 74/100\n",
            "11/11 [==============================] - 0s 23ms/step - loss: 0.1681 - val_loss: 0.3306\n",
            "Epoch 75/100\n",
            "11/11 [==============================] - 0s 23ms/step - loss: 0.1615 - val_loss: 0.3297\n",
            "Epoch 76/100\n",
            "11/11 [==============================] - 0s 27ms/step - loss: 0.1593 - val_loss: 0.3272\n",
            "Epoch 77/100\n",
            "11/11 [==============================] - 0s 26ms/step - loss: 0.1595 - val_loss: 0.3302\n",
            "Epoch 78/100\n",
            "11/11 [==============================] - 0s 27ms/step - loss: 0.1556 - val_loss: 0.3282\n",
            "Epoch 79/100\n",
            "11/11 [==============================] - 0s 21ms/step - loss: 0.1528 - val_loss: 0.3234\n",
            "Epoch 80/100\n",
            "11/11 [==============================] - 0s 14ms/step - loss: 0.1512 - val_loss: 0.3298\n",
            "Epoch 81/100\n",
            "11/11 [==============================] - 0s 14ms/step - loss: 0.1554 - val_loss: 0.3375\n",
            "Epoch 82/100\n",
            "11/11 [==============================] - 0s 14ms/step - loss: 0.1581 - val_loss: 0.3344\n",
            "Epoch 83/100\n",
            "11/11 [==============================] - 0s 21ms/step - loss: 0.1503 - val_loss: 0.3273\n",
            "Epoch 84/100\n",
            "11/11 [==============================] - 0s 15ms/step - loss: 0.1522 - val_loss: 0.3289\n",
            "Epoch 85/100\n",
            "11/11 [==============================] - 0s 15ms/step - loss: 0.1492 - val_loss: 0.3271\n",
            "Epoch 86/100\n",
            "11/11 [==============================] - 0s 13ms/step - loss: 0.1557 - val_loss: 0.3347\n",
            "Epoch 87/100\n",
            "11/11 [==============================] - 0s 14ms/step - loss: 0.1477 - val_loss: 0.3318\n",
            "Epoch 88/100\n",
            "11/11 [==============================] - 0s 13ms/step - loss: 0.1499 - val_loss: 0.3310\n",
            "Epoch 89/100\n",
            "11/11 [==============================] - 0s 14ms/step - loss: 0.1528 - val_loss: 0.3337\n",
            "Epoch 90/100\n",
            "11/11 [==============================] - 0s 21ms/step - loss: 0.1443 - val_loss: 0.3356\n",
            "Epoch 91/100\n",
            "11/11 [==============================] - 0s 25ms/step - loss: 0.1477 - val_loss: 0.3391\n",
            "Epoch 92/100\n",
            "11/11 [==============================] - 0s 23ms/step - loss: 0.1451 - val_loss: 0.3247\n",
            "Epoch 93/100\n",
            "11/11 [==============================] - 0s 32ms/step - loss: 0.1456 - val_loss: 0.3196\n",
            "Epoch 94/100\n",
            "11/11 [==============================] - 0s 32ms/step - loss: 0.1487 - val_loss: 0.3459\n",
            "Epoch 95/100\n",
            "11/11 [==============================] - 0s 26ms/step - loss: 0.1457 - val_loss: 0.3328\n",
            "Epoch 96/100\n",
            "11/11 [==============================] - 0s 27ms/step - loss: 0.1446 - val_loss: 0.3172\n",
            "Epoch 97/100\n",
            "11/11 [==============================] - 0s 34ms/step - loss: 0.1503 - val_loss: 0.3261\n",
            "Epoch 98/100\n",
            "11/11 [==============================] - 0s 24ms/step - loss: 0.1451 - val_loss: 0.3366\n",
            "Epoch 99/100\n",
            "11/11 [==============================] - 0s 43ms/step - loss: 0.1484 - val_loss: 0.3242\n",
            "Epoch 100/100\n",
            "11/11 [==============================] - 0s 37ms/step - loss: 0.1408 - val_loss: 0.3329\n"
          ]
        }
      ]
    },
    {
      "cell_type": "code",
      "source": [
        "plt.plot(history.history['loss'])\n",
        "plt.plot(history.history['val_loss'])\n",
        "plt.title('Model Loss')\n",
        "plt.ylabel('Loss')\n",
        "plt.xlabel('epoch')\n",
        "plt.legend(['train', 'val'])\n",
        "plt.show()"
      ],
      "metadata": {
        "colab": {
          "base_uri": "https://localhost:8080/",
          "height": 472
        },
        "id": "Lvo5XY-tWn3C",
        "outputId": "2a053c23-af60-4825-e75f-45648c9b4643"
      },
      "execution_count": 15,
      "outputs": [
        {
          "output_type": "display_data",
          "data": {
            "text/plain": [
              "<Figure size 640x480 with 1 Axes>"
            ],
            "image/png": "[encoded data removed]"
          },
          "metadata": {}
        }
      ]
    },
    {
      "cell_type": "code",
      "source": [
        "# context = vectorizer('Kau genggam kedua tanganku saat aku merasa takut Kaulah yang')\n",
        "context = data[:context_size]\n",
        "decode(context)"
      ],
      "metadata": {
        "colab": {
          "base_uri": "https://localhost:8080/",
          "height": 35
        },
        "id": "vhZi36QTlP3g",
        "outputId": "74ab1503-5a24-4fff-8e3f-c6d69570ac04"
      },
      "execution_count": 16,
      "outputs": [
        {
          "output_type": "execute_result",
          "data": {
            "text/plain": [
              "'kau adalah separuh hidup ku hanya kepadamu aku'"
            ],
            "application/vnd.google.colaboratory.intrinsic+json": {
              "type": "string"
            }
          },
          "metadata": {},
          "execution_count": 16
        }
      ]
    },
    {
      "cell_type": "code",
      "source": [
        "softmax = model(np.array([context]))"
      ],
      "metadata": {
        "id": "SzIAAz1FjBdB"
      },
      "execution_count": 17,
      "outputs": []
    },
    {
      "cell_type": "code",
      "source": [
        "tf.math.log([[0.5, 0.8,0.3,.2,.2,.2,.2,.2,.2,.2]])"
      ],
      "metadata": {
        "colab": {
          "base_uri": "https://localhost:8080/"
        },
        "id": "ykwx-sRj36Xz",
        "outputId": "d95a64e1-2096-435e-f6e6-d03fb8a5e3cc"
      },
      "execution_count": 18,
      "outputs": [
        {
          "output_type": "execute_result",
          "data": {
            "text/plain": [
              "<tf.Tensor: shape=(1, 10), dtype=float32, numpy=\n",
              "array([[-0.6931472 , -0.22314355, -1.2039728 , -1.609438  , -1.609438  ,\n",
              "        -1.609438  , -1.609438  , -1.609438  , -1.609438  , -1.609438  ]],\n",
              "      dtype=float32)>"
            ]
          },
          "metadata": {},
          "execution_count": 18
        }
      ]
    },
    {
      "cell_type": "code",
      "source": [
        "p = tf.random.categorical(softmax[-1,-1:],100)\n",
        "decode(p[0])"
      ],
      "metadata": {
        "colab": {
          "base_uri": "https://localhost:8080/",
          "height": 140
        },
        "id": "FHE6PUqK3bqy",
        "outputId": "67112002-a3a9-40b0-affc-65b585bdded6"
      },
      "execution_count": 19,
      "outputs": [
        {
          "output_type": "execute_result",
          "data": {
            "text/plain": [
              "'berbagi berbagi berbagi berbagi berbagi berbagi berbagi berbagi berbagi berbagi berbagi berbagi berbagi berbagi berbagi berbagi berbagi berbagi berbagi berbagi berbagi berbagi berbagi berbagi berbagi berbagi berbagi berbagi berbagi berbagi berbagi berbagi berbagi berbagi berbagi berbagi berbagi berbagi berbagi berbagi berbagi berbagi berbagi berbagi berbagi berbagi berbagi berbagi berbagi berbagi berbagi berbagi berbagi berbagi berbagi berbagi berbagi berbagi berbagi berbagi berbagi berbagi berbagi berbagi berbagi berbagi berbagi berbagi berbagi berbagi berbagi berbagi berbagi berbagi berbagi berbagi berbagi berbagi berbagi berbagi berbagi berbagi berbagi berbagi berbagi berbagi berbagi berbagi berbagi berbagi berbagi berbagi berbagi berbagi berbagi berbagi berbagi berbagi berbagi berbagi'"
            ],
            "application/vnd.google.colaboratory.intrinsic+json": {
              "type": "string"
            }
          },
          "metadata": {},
          "execution_count": 19
        }
      ]
    },
    {
      "cell_type": "code",
      "source": [
        "decode(mini_batch[:1][0])"
      ],
      "metadata": {
        "colab": {
          "base_uri": "https://localhost:8080/",
          "height": 35
        },
        "id": "2jeqZmlHkFpC",
        "outputId": "ca00339e-663d-4927-a435-65faa1318a88"
      },
      "execution_count": 20,
      "outputs": [
        {
          "output_type": "execute_result",
          "data": {
            "text/plain": [
              "'kau adalah separuh hidup ku hanya kepadamu aku'"
            ],
            "application/vnd.google.colaboratory.intrinsic+json": {
              "type": "string"
            }
          },
          "metadata": {},
          "execution_count": 20
        }
      ]
    },
    {
      "cell_type": "code",
      "source": [
        "decode([tf.argmax(softmax[0,-1,:])])"
      ],
      "metadata": {
        "colab": {
          "base_uri": "https://localhost:8080/",
          "height": 35
        },
        "id": "VAGduR5UjohP",
        "outputId": "522ab334-8263-4952-81da-9168d58435d7"
      },
      "execution_count": 21,
      "outputs": [
        {
          "output_type": "execute_result",
          "data": {
            "text/plain": [
              "'berbagi'"
            ],
            "application/vnd.google.colaboratory.intrinsic+json": {
              "type": "string"
            }
          },
          "metadata": {},
          "execution_count": 21
        }
      ]
    },
    {
      "cell_type": "code",
      "source": [
        "context = vectorizer('Aku menyayangimu Hingga tutup usiaku Bahkan hingga aku')\n",
        "decoded = decode(context)\n",
        "print(decoded)\n",
        "\n",
        "full_text = ''\n",
        "for i in range(100):\n",
        "  context_new = context[-context_size:]\n",
        "  softmax = model(np.array([context_new]))\n",
        "  prediction = tf.random.categorical(softmax[-1,-1:],1)\n",
        "  full_text += decode(prediction[0])+' '\n",
        "  context = tf.concat([context,prediction[0]],axis=0)"
      ],
      "metadata": {
        "id": "2gYdFkWyjpFm",
        "colab": {
          "base_uri": "https://localhost:8080/"
        },
        "outputId": "5b8eb148-f83b-4789-af53-8e72f7b3f86a"
      },
      "execution_count": 22,
      "outputs": [
        {
          "output_type": "stream",
          "name": "stdout",
          "text": [
            "aku [UNK] hingga tutup usiaku bahkan hingga aku\n"
          ]
        }
      ]
    },
    {
      "cell_type": "code",
      "source": [
        "decoded+' '+full_text"
      ],
      "metadata": {
        "colab": {
          "base_uri": "https://localhost:8080/",
          "height": 122
        },
        "id": "zjCZHSagmT8g",
        "outputId": "3dcd711a-4416-48e8-9df4-41f43be6071d"
      },
      "execution_count": 23,
      "outputs": [
        {
          "output_type": "execute_result",
          "data": {
            "text/plain": [
              "'aku [UNK] hingga tutup usiaku bahkan hingga aku hidup lagi sangat sayang padamu sayang lahir dan batinku hingga akhir waktuku ibu jika di perkenankan aku ingin membalas itu segala yang kau berikan kau berikan padaku selama ini sungguh ibu aku ingin selalu bersamamu disisa usiaku ingin tetap bersamamuibukasihmu tak akan ada yang bisa menggantikannyaibu doa terakhirkuya tuhanlindungilah lindungilah di setiap langkah ibu ibu yang ku sayang ibu yang tak tergantikan ibu yang tak terduakan terimakasih ibu aku menyayangmu hingga tutup usiaku bahkan hingga aku hidup lagi perisai yang kau banggakan takkan jadi tameng bagimu aku mengerti betapa hebatnya perangkap mu hei sang dewi ku akan terus merasa terbiasa '"
            ],
            "application/vnd.google.colaboratory.intrinsic+json": {
              "type": "string"
            }
          },
          "metadata": {},
          "execution_count": 23
        }
      ]
    },
    {
      "cell_type": "code",
      "source": [],
      "metadata": {
        "id": "Fd1yfqT66ZVd"
      },
      "execution_count": null,
      "outputs": []
    }
  ]
}