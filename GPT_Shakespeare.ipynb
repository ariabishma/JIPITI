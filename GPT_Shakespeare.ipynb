{
  "cells": [
    {
      "cell_type": "markdown",
      "metadata": {
        "id": "view-in-github",
        "colab_type": "text"
      },
      "source": [
        "<a href=\"https://colab.research.google.com/github/ariabishma/JIPITI/blob/main/GPT_Shakespeare.ipynb\" target=\"_parent\"><img src=\"https://colab.research.google.com/assets/colab-badge.svg\" alt=\"Open In Colab\"/></a>"
      ]
    },
    {
      "cell_type": "code",
      "execution_count": 1,
      "metadata": {
        "colab": {
          "base_uri": "https://localhost:8080/"
        },
        "id": "OaZ7TlTirLWO",
        "outputId": "cc623e5e-bdfe-4f34-b46a-a6bf659d56d6"
      },
      "outputs": [
        {
          "output_type": "stream",
          "name": "stdout",
          "text": [
            "--2023-05-26 14:05:24--  https://raw.githubusercontent.com/karpathy/char-rnn/master/data/tinyshakespeare/input.txt\n",
            "Resolving raw.githubusercontent.com (raw.githubusercontent.com)... 185.199.108.133, 185.199.109.133, 185.199.110.133, ...\n",
            "Connecting to raw.githubusercontent.com (raw.githubusercontent.com)|185.199.108.133|:443... connected.\n",
            "HTTP request sent, awaiting response... 200 OK\n",
            "Length: 1115394 (1.1M) [text/plain]\n",
            "Saving to: ‘input.txt.2’\n",
            "\n",
            "\rinput.txt.2           0%[                    ]       0  --.-KB/s               \rinput.txt.2         100%[===================>]   1.06M  --.-KB/s    in 0.02s   \n",
            "\n",
            "2023-05-26 14:05:24 (64.4 MB/s) - ‘input.txt.2’ saved [1115394/1115394]\n",
            "\n"
          ]
        }
      ],
      "source": [
        "!wget https://raw.githubusercontent.com/karpathy/char-rnn/master/data/tinyshakespeare/input.txt"
      ]
    },
    {
      "cell_type": "code",
      "execution_count": 2,
      "metadata": {
        "id": "j5fvQr7ArhKp"
      },
      "outputs": [],
      "source": [
        "import tensorflow as tf\n",
        "import numpy as np \n",
        "from tensorflow.keras.layers import TextVectorization, Dense, Input, Embedding, Layer, Dropout, LayerNormalization\n",
        "import matplotlib.pyplot as plt"
      ]
    },
    {
      "cell_type": "code",
      "execution_count": 476,
      "metadata": {
        "id": "gtO2S-DJrtb6"
      },
      "outputs": [],
      "source": [
        "context_size = 32\n",
        "batch_size = 16 # how many independent sequences will we process in parallel?\n",
        "n_embd = 64"
      ]
    },
    {
      "cell_type": "code",
      "execution_count": 477,
      "metadata": {
        "id": "pmbVYjCerOlc"
      },
      "outputs": [],
      "source": [
        "with open('./input.txt', 'r', encoding='utf-8') as f:\n",
        "    text = f.readlines()"
      ]
    },
    {
      "cell_type": "code",
      "execution_count": 478,
      "metadata": {
        "id": "XwJ9Z90arVk6"
      },
      "outputs": [],
      "source": [
        "vectorizer = TextVectorization(split=\"character\",ragged=True)\n",
        "# vectorizer = TextVectorization(max_tokens=1000,ragged=True)\n",
        "vectorizer.adapt(text)\n",
        "\n",
        "vocabs = vectorizer.get_vocabulary()\n",
        "\n",
        "vocab_size = vectorizer.vocabulary_size()\n",
        "data = vectorizer(text).flat_values\n",
        "data_size = data.shape[0]"
      ]
    },
    {
      "cell_type": "code",
      "execution_count": 479,
      "metadata": {
        "colab": {
          "base_uri": "https://localhost:8080/"
        },
        "id": "t1RgIUOBfPNY",
        "outputId": "3d0585a9-a5cd-4124-d0c6-bd0bd469ec44"
      },
      "outputs": [
        {
          "output_type": "execute_result",
          "data": {
            "text/plain": [
              "31"
            ]
          },
          "metadata": {},
          "execution_count": 479
        }
      ],
      "source": [
        "vocab_size"
      ]
    },
    {
      "cell_type": "code",
      "execution_count": 480,
      "metadata": {
        "id": "hHow_v8RrWfC"
      },
      "outputs": [],
      "source": [
        "decode = lambda encoded : ''.join([vocabs[i] for i in encoded])"
      ]
    },
    {
      "cell_type": "code",
      "execution_count": 481,
      "metadata": {
        "id": "UMiDA357sZVd"
      },
      "outputs": [],
      "source": [
        "n = int(0.9*len(data)) # train validation split\n",
        "train_data = data[:n]\n",
        "val_data = data[n:]"
      ]
    },
    {
      "cell_type": "code",
      "execution_count": 482,
      "metadata": {
        "id": "Wkt34X6qrmbz"
      },
      "outputs": [],
      "source": [
        "def get_batch(split):\n",
        "    data = train_data if split == 'train' else val_data\n",
        "    ix = np.random.randint(len(data) - context_size, size = (batch_size,)) # generate random text position \n",
        "    x = np.stack([data[i:i+context_size] for i in ix])\n",
        "    y = np.stack([data[i+1:i+context_size+1] for i in ix])\n",
        "    return x, y"
      ]
    },
    {
      "cell_type": "code",
      "execution_count": 483,
      "metadata": {
        "id": "A4PnFrrLrrM1"
      },
      "outputs": [],
      "source": [
        "xb, yb = get_batch('train')"
      ]
    },
    {
      "cell_type": "code",
      "execution_count": 484,
      "metadata": {
        "id": "kAw3YeQUtz1S"
      },
      "outputs": [],
      "source": [
        "class SelfAttention(tf.keras.layers.Layer):\n",
        "  def __init__(self, head_size):\n",
        "    super(SelfAttention,self).__init__()\n",
        "    self.query = Dense(head_size, use_bias=False)\n",
        "    self.key = Dense(head_size, use_bias=False)\n",
        "    self.value = Dense(head_size, use_bias=False)\n",
        "\n",
        "    self.dropout = Dropout(.2)\n",
        "    \n",
        "  \n",
        "  def call(self, x):\n",
        "    query = self.query(x)\n",
        "    key = self.key(x)\n",
        "    value = self.value(x)\n",
        "\n",
        "    logits = query @ tf.transpose(key,perm=[0,2,1])\n",
        "    mask = tf.linalg.band_part(tf.ones_like(logits ,dtype='bool'), -1, 0)\n",
        "    \n",
        "    logits = tf.where(mask, logits, float('-inf'))\n",
        "\n",
        "    logits = tf.nn.softmax(logits / np.sqrt(n_embd))\n",
        "    logits = logits @ value \n",
        "\n",
        "    logits = self.dropout(logits)\n",
        "\n",
        "\n",
        "    return logits"
      ]
    },
    {
      "cell_type": "code",
      "execution_count": 485,
      "metadata": {
        "id": "9TcWMqpatngw"
      },
      "outputs": [],
      "source": [
        "class MultiHeadSelfAttention(tf.keras.layers.Layer):\n",
        "  def __init__(self, n_head, head_size):\n",
        "    super(MultiHeadSelfAttention,self).__init__()\n",
        "    self.heads = [SelfAttention(head_size) for _ in range(n_head)]\n",
        "    self.proj = Dense(n_embd)\n",
        "  \n",
        "  def call(self, x):\n",
        "    heads = [head(x) for head in self.heads]\n",
        "    x = tf.concat(heads,axis=-1)\n",
        "    x = self.proj(x)\n",
        "    return x "
      ]
    },
    {
      "cell_type": "code",
      "execution_count": 486,
      "metadata": {
        "id": "yLvjyIctpu_Q"
      },
      "outputs": [],
      "source": [
        "class FeedForward(tf.keras.layers.Layer):\n",
        "  def __init__(self):\n",
        "    super(FeedForward, self).__init__()\n",
        "    self.linear = tf.keras.layers.Dense(n_embd * 4, activation='relu', kernel_regularizer='l2')\n",
        "    self.head = tf.keras.layers.Dense(n_embd, kernel_regularizer='l2')\n",
        "    self.dropout = tf.keras.layers.Dropout(.2)\n",
        "  \n",
        "  def call(self, x):\n",
        "    x = self.linear(x) \n",
        "    x = self.dropout(self.head(x)) \n",
        "    return x"
      ]
    },
    {
      "cell_type": "code",
      "execution_count": 490,
      "metadata": {
        "id": "JdUXQ2k1tbLA"
      },
      "outputs": [],
      "source": [
        "class Block(tf.keras.layers.Layer):\n",
        "  def __init__(self):\n",
        "    super(Block,self).__init__()\n",
        "    \n",
        "    n_head = n_embd // head_size\n",
        "    self.self_attentions = MultiHeadSelfAttention(n_head, head_size)\n",
        "    \n",
        "    self.ffw = FeedForward()\n",
        "    \n",
        "    self.ln1 = tf.keras.layers.LayerNormalization()\n",
        "    self.ln2 = tf.keras.layers.LayerNormalization()\n",
        "\n",
        "  \n",
        "  def call(self, x):\n",
        "    x = x + self.self_attentions(self.ln1(x))\n",
        "    x = x + self.ffw(self.ln2(x))\n",
        "    return x"
      ]
    },
    {
      "cell_type": "code",
      "execution_count": 491,
      "metadata": {
        "id": "gNP_TuxvlRkn"
      },
      "outputs": [],
      "source": [
        "head_size = 4"
      ]
    },
    {
      "cell_type": "code",
      "source": [
        "n_embd // head_size"
      ],
      "metadata": {
        "colab": {
          "base_uri": "https://localhost:8080/"
        },
        "id": "Fm_4aKsra2or",
        "outputId": "c35584b7-ead2-402b-cb7a-17267da81591"
      },
      "execution_count": 492,
      "outputs": [
        {
          "output_type": "execute_result",
          "data": {
            "text/plain": [
              "16"
            ]
          },
          "metadata": {},
          "execution_count": 492
        }
      ]
    },
    {
      "cell_type": "code",
      "execution_count": 495,
      "metadata": {
        "id": "zIlqquHHsd4t"
      },
      "outputs": [],
      "source": [
        "class LanguageModel(tf.keras.Model):\n",
        "  def __init__(self):\n",
        "    super(LanguageModel,self).__init__()\n",
        "    self.token_embedding = Embedding(vocab_size, n_embd)\n",
        "    self.positional_embedding_table = Embedding(context_size, n_embd)\n",
        "    \n",
        "    self.block = Block()\n",
        "\n",
        "    self.ln_f = tf.keras.layers.LayerNormalization()\n",
        "    self.lm_head = tf.keras.layers.Dense(vocab_size, kernel_regularizer='l2')\n",
        "\n",
        "    self.loss_func = tf.keras.losses.SparseCategoricalCrossentropy(from_logits = True) \n",
        "    self.acc_func = tf.keras.metrics.SparseCategoricalAccuracy(name=\"accuracy\") \n",
        "\n",
        "  def call(self, input, target=None):\n",
        "    token_embd = self.token_embedding(input)\n",
        "    pos_embd = self.positional_embedding_table(tf.range(context_size))\n",
        "    logits  = token_embd + pos_embd\n",
        "\n",
        "    logits = self.block(logits)\n",
        "    logits = self.block(logits)\n",
        "    logits = self.block(logits)\n",
        "    logits = self.block(logits)\n",
        "\n",
        "    logits = self.lm_head(self.ln_f(logits))\n",
        "    \n",
        "    loss = None\n",
        "    acc  = None\n",
        "\n",
        "    if target is not None:\n",
        "      loss = self.loss_func(target,logits)\n",
        "      acc = self.acc_func(target, logits)\n",
        "    \n",
        "    return logits, loss, acc\n",
        "    # return logits"
      ]
    },
    {
      "cell_type": "code",
      "execution_count": 496,
      "metadata": {
        "id": "o8bo63V-s3pO"
      },
      "outputs": [],
      "source": [
        "model = LanguageModel()\n",
        "l = model(xb, yb)"
      ]
    },
    {
      "cell_type": "code",
      "execution_count": 497,
      "metadata": {
        "id": "lP_-XwtgvadK"
      },
      "outputs": [],
      "source": [
        "optimizer = tf.keras.optimizers.Adam()"
      ]
    },
    {
      "cell_type": "code",
      "execution_count": 498,
      "metadata": {
        "id": "iqgYX0tc3ykl"
      },
      "outputs": [],
      "source": [
        "loss_history = []\n",
        "val_loss_history = []"
      ]
    },
    {
      "cell_type": "code",
      "execution_count": 516,
      "metadata": {
        "colab": {
          "base_uri": "https://localhost:8080/"
        },
        "id": "XUks_Hkht8UV",
        "outputId": "8f7c832a-4098-4ab1-c1d5-a7fa59ca07f5"
      },
      "outputs": [
        {
          "output_type": "stream",
          "name": "stdout",
          "text": [
            "acc : 0.24536806  val_acc : 0.24539897\n",
            "loss : 2.35397  val_loss : 2.3187885\n",
            "----------------------------------------------------------\n",
            "acc : 0.24608098  val_acc : 0.2460895\n",
            "loss : 2.4061527  val_loss : 2.4358664\n",
            "----------------------------------------------------------\n",
            "acc : 0.24669504  val_acc : 0.2467448\n",
            "loss : 2.2657335  val_loss : 2.3324454\n",
            "----------------------------------------------------------\n",
            "acc : 0.24722615  val_acc : 0.24725193\n",
            "loss : 2.36254  val_loss : 2.3598094\n",
            "----------------------------------------------------------\n",
            "acc : 0.24790928  val_acc : 0.24796891\n",
            "loss : 2.2871308  val_loss : 2.3802855\n",
            "----------------------------------------------------------\n",
            "acc : 0.24853617  val_acc : 0.24859448\n",
            "loss : 2.2527833  val_loss : 2.2703466\n",
            "----------------------------------------------------------\n",
            "acc : 0.2490967  val_acc : 0.2491217\n",
            "loss : 2.3054004  val_loss : 2.4382346\n",
            "----------------------------------------------------------\n",
            "acc : 0.24980548  val_acc : 0.2498255\n",
            "loss : 2.20331  val_loss : 2.350079\n",
            "----------------------------------------------------------\n",
            "acc : 0.2502905  val_acc : 0.25033924\n",
            "loss : 2.303146  val_loss : 2.2136657\n",
            "----------------------------------------------------------\n",
            "acc : 0.2507766  val_acc : 0.25083402\n",
            "loss : 2.24576  val_loss : 2.184105\n",
            "----------------------------------------------------------\n"
          ]
        }
      ],
      "source": [
        "for i in range(100):\n",
        "  with tf.GradientTape() as g:\n",
        "    xb, yb = get_batch('train')\n",
        "    logits, loss, acc = model(xb, yb)\n",
        "\n",
        "    # loss_history.append(loss.numpy())\n",
        "    # val_loss_history.append(val_loss.numpy())\n",
        "    \n",
        "    if i % 10 == 0:\n",
        "      x_val, y_val = get_batch('val')\n",
        "      val_logits, val_loss, val_acc = model(x_val, y_val)\n",
        "      \n",
        "      print(\"acc :\",acc.numpy(),\" val_acc :\",val_acc.numpy())\n",
        "      print(\"loss :\",loss.numpy(),\" val_loss :\",val_loss.numpy())\n",
        "      print('----------------------------------------------------------')\n",
        "\n",
        "\n",
        "  grads = g.gradient(loss, model.trainable_weights)\n",
        "  optimizer.apply_gradients(zip(grads, model.trainable_weights))"
      ]
    },
    {
      "cell_type": "code",
      "execution_count": 513,
      "metadata": {
        "id": "BcMbBSMZ4QFC",
        "colab": {
          "base_uri": "https://localhost:8080/",
          "height": 432
        },
        "outputId": "417609db-d5e8-42f0-c8ab-4d7e2c679c28"
      },
      "outputs": [
        {
          "output_type": "display_data",
          "data": {
            "text/plain": [
              "<Figure size 640x480 with 1 Axes>"
            ],
            "image/png": "[encoded data removed]"
          },
          "metadata": {}
        }
      ],
      "source": [
        "plt.plot(loss_history, label=\"training\")\n",
        "plt.plot(val_loss_history, label=\"training\")\n",
        "plt.legend()\n",
        "plt.show()"
      ]
    },
    {
      "cell_type": "code",
      "execution_count": 517,
      "metadata": {
        "colab": {
          "base_uri": "https://localhost:8080/"
        },
        "id": "s5Tz87Z4vDoS",
        "outputId": "dc287580-011b-4578-b084-e2653c6c301f"
      },
      "outputs": [
        {
          "output_type": "stream",
          "name": "stdout",
          "text": [
            "acc : 0.2513674  loss : 2.2787592\n"
          ]
        }
      ],
      "source": [
        "logits, loss, acc = model(xb, yb)\n",
        "print(\"acc :\",acc.numpy(),\" loss :\",loss.numpy())"
      ]
    },
    {
      "cell_type": "code",
      "execution_count": 518,
      "metadata": {
        "colab": {
          "base_uri": "https://localhost:8080/"
        },
        "id": "ccwINKLKvtbD",
        "outputId": "28555dfb-d58e-4c97-9ac5-416769e710ae"
      },
      "outputs": [
        {
          "output_type": "stream",
          "name": "stdout",
          "text": [
            "acc : 0.2514332  loss : 2.263277\n"
          ]
        }
      ],
      "source": [
        "xb, yb = get_batch('val')\n",
        "logits, loss, acc = model(xb, yb)\n",
        "print(\"acc :\",acc.numpy(),\" loss :\",loss.numpy())"
      ]
    },
    {
      "cell_type": "code",
      "execution_count": 519,
      "metadata": {
        "colab": {
          "base_uri": "https://localhost:8080/"
        },
        "id": "wc0kXZLxwDcc",
        "outputId": "f6ad9665-0e6d-4146-e862-37c16e73c4d9"
      },
      "outputs": [
        {
          "output_type": "stream",
          "name": "stdout",
          "text": [
            "Model: \"language_model_32\"\n",
            "_________________________________________________________________\n",
            " Layer (type)                Output Shape              Param #   \n",
            "=================================================================\n",
            " embedding_64 (Embedding)    multiple                  1984      \n",
            "                                                                 \n",
            " embedding_65 (Embedding)    multiple                  2048      \n",
            "                                                                 \n",
            " block_32 (Block)            multiple                  49792     \n",
            "                                                                 \n",
            " layer_normalization_92 (Lay  multiple                 128       \n",
            " erNormalization)                                                \n",
            "                                                                 \n",
            " dense_1403 (Dense)          multiple                  2015      \n",
            "                                                                 \n",
            "=================================================================\n",
            "Total params: 55,969\n",
            "Trainable params: 55,967\n",
            "Non-trainable params: 2\n",
            "_________________________________________________________________\n"
          ]
        }
      ],
      "source": [
        "model.summary()"
      ]
    },
    {
      "cell_type": "code",
      "execution_count": 520,
      "metadata": {
        "colab": {
          "base_uri": "https://localhost:8080/"
        },
        "id": "YmStbhJ2yLdX",
        "outputId": "e4272318-80ec-4566-9936-256921ce41b4"
      },
      "outputs": [
        {
          "output_type": "stream",
          "name": "stdout",
          "text": [
            "32\n",
            "e happier for thy son\n",
            "and now by\n"
          ]
        }
      ],
      "source": [
        "context = x_val[np.random.randint(len(x_val))]\n",
        "decoded = decode(context)\n",
        "print(len(context))\n",
        "print(decoded)\n",
        "\n",
        "full_text = ''\n",
        "for i in range(100):\n",
        "  context_new = context[-context_size:]\n",
        "  logits, loss, acc = model(np.array([context_new]))\n",
        "  prediction = tf.random.categorical(logits[-1,-1:],1)\n",
        "  full_text += decode(prediction[0])+''\n",
        "  context = tf.concat([context,prediction[0]],axis=0)"
      ]
    },
    {
      "cell_type": "code",
      "execution_count": 521,
      "metadata": {
        "colab": {
          "base_uri": "https://localhost:8080/"
        },
        "id": "cU1ZusZ953AH",
        "outputId": "b228fbeb-7e1d-4752-9737-f6e88f468b5c"
      },
      "outputs": [
        {
          "output_type": "stream",
          "name": "stdout",
          "text": [
            "e happier for thy son\n",
            "and now by  hou ge ftomes wite nif mbr wathares and witith\n",
            "e\n",
            "arglern ulous\n",
            "tlleran ge the ake the sutat thowent\n"
          ]
        }
      ],
      "source": [
        "print(decoded+' '+full_text)"
      ]
    },
    {
      "cell_type": "code",
      "execution_count": null,
      "metadata": {
        "id": "rMNN31uW5_eF"
      },
      "outputs": [],
      "source": []
    }
  ],
  "metadata": {
    "colab": {
      "provenance": [],
      "authorship_tag": "ABX9TyOtwZ10JEUYtheChlYrwHvp",
      "include_colab_link": true
    },
    "gpuClass": "standard",
    "kernelspec": {
      "display_name": "Python 3",
      "name": "python3"
    },
    "language_info": {
      "name": "python"
    }
  },
  "nbformat": 4,
  "nbformat_minor": 0
}